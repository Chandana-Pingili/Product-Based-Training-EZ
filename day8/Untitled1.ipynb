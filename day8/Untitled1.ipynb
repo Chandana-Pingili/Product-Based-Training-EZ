{
 "cells": [
  {
   "cell_type": "markdown",
   "id": "97258112",
   "metadata": {},
   "source": [
    "# selection sort"
   ]
  },
  {
   "cell_type": "code",
   "execution_count": 5,
   "id": "ed865b73",
   "metadata": {},
   "outputs": [],
   "source": [
    "def selectionsort(l):\n",
    "    for i in range(len(l)):\n",
    "        min=i\n",
    "        print(\"key is\",l[i])\n",
    "        for j in range(i+1,len(l)):\n",
    "            print(\"key is compared with: \",l[j])\n",
    "            \n",
    "            if l[min]>l[j]:\n",
    "                min=j\n",
    "        l[min],l[i]=l[i],l[min]\n",
    "        print(l)"
   ]
  },
  {
   "cell_type": "code",
   "execution_count": 6,
   "id": "116b206a",
   "metadata": {},
   "outputs": [
    {
     "name": "stdout",
     "output_type": "stream",
     "text": [
      "enter list elements :15 7 6 3 9 8\n",
      "key is 15\n",
      "key is compared with:  7\n",
      "key is compared with:  6\n",
      "key is compared with:  3\n",
      "key is compared with:  9\n",
      "key is compared with:  8\n",
      "[3, 7, 6, 15, 9, 8]\n",
      "key is 7\n",
      "key is compared with:  6\n",
      "key is compared with:  15\n",
      "key is compared with:  9\n",
      "key is compared with:  8\n",
      "[3, 6, 7, 15, 9, 8]\n",
      "key is 7\n",
      "key is compared with:  15\n",
      "key is compared with:  9\n",
      "key is compared with:  8\n",
      "[3, 6, 7, 15, 9, 8]\n",
      "key is 15\n",
      "key is compared with:  9\n",
      "key is compared with:  8\n",
      "[3, 6, 7, 8, 9, 15]\n",
      "key is 9\n",
      "key is compared with:  15\n",
      "[3, 6, 7, 8, 9, 15]\n",
      "key is 15\n",
      "[3, 6, 7, 8, 9, 15]\n"
     ]
    }
   ],
   "source": [
    "l=list(map(int,input(\"enter list elements :\").split()))\n",
    "selectionsort(l)"
   ]
  },
  {
   "cell_type": "markdown",
   "id": "d531dce7",
   "metadata": {},
   "source": [
    "# quick sort"
   ]
  },
  {
   "cell_type": "markdown",
   "id": "17e85552",
   "metadata": {},
   "source": [
    "->quick sort follows divide and conquer approach\n",
    "\n",
    "->pivot element is selected and all the elements lesser than pivot are arranged at left side of it and greater than pivot are moved to right side of pivot\n",
    "\n",
    "-> Then left and right subarray are sorted recursively\n",
    "\n",
    "->any element can be consisdered as pivot"
   ]
  },
  {
   "cell_type": "code",
   "execution_count": null,
   "id": "74971ab4",
   "metadata": {},
   "outputs": [],
   "source": [
    "def quick_sort(l):\n",
    "    print(\"main list is :\",l)\n",
    "    if len(l)<1:\n",
    "        return l\n",
    "    pivot=l[len(l)//2]\n",
    "    l_l=[i for i in l if i<pivot]\n",
    "    print(\"left sublist is: \",l_l)\n",
    "    r_l=[i for i in l if i>pivot]\n",
    "    print(\"right sub list is: \",r_l)\n",
    "    \n",
    "    return quick_sort(l_l)+pivot+quick_sort(r_l)"
   ]
  },
  {
   "cell_type": "code",
   "execution_count": null,
   "id": "889f070d",
   "metadata": {},
   "outputs": [],
   "source": [
    "l=list(map(int,input(\" enter list elements to sort :\").split()))\n",
    "print(\"sorted list is : \"quick_sort(l))"
   ]
  },
  {
   "cell_type": "code",
   "execution_count": null,
   "id": "68507ee8",
   "metadata": {},
   "outputs": [],
   "source": []
  }
 ],
 "metadata": {
  "kernelspec": {
   "display_name": "Python 3 (ipykernel)",
   "language": "python",
   "name": "python3"
  },
  "language_info": {
   "codemirror_mode": {
    "name": "ipython",
    "version": 3
   },
   "file_extension": ".py",
   "mimetype": "text/x-python",
   "name": "python",
   "nbconvert_exporter": "python",
   "pygments_lexer": "ipython3",
   "version": "3.11.4"
  }
 },
 "nbformat": 4,
 "nbformat_minor": 5
}
