{
 "cells": [
  {
   "cell_type": "markdown",
   "id": "057fb232",
   "metadata": {},
   "source": [
    "# count no.of inversions"
   ]
  },
  {
   "cell_type": "markdown",
   "id": "2829a0eb",
   "metadata": {},
   "source": [
    "let us take a list\n",
    "\n",
    "[2,3,4,5,6]-->lst\n",
    "\n",
    "[0,1,2,3,4] -->indices\n",
    "\n",
    "now considering two elements in the list if the indices i<j and lst[i]>lst[j] then the two elements are considered as inversions\n",
    "\n"
   ]
  },
  {
   "cell_type": "code",
   "execution_count": 89,
   "id": "a91b045b",
   "metadata": {},
   "outputs": [],
   "source": [
    "def count_inversions(l):\n",
    "    count=0\n",
    "    for i in range(len(l)):\n",
    "        for j in range(i+1,len(l)):\n",
    "            si=[]\n",
    "            if l[i]>l[j]:\n",
    "                count+=1\n",
    "                si.append(l[i])\n",
    "                si.append(l[j])\n",
    "                print(si)\n",
    "    return count\n",
    "                "
   ]
  },
  {
   "cell_type": "code",
   "execution_count": 90,
   "id": "b1a053fc",
   "metadata": {},
   "outputs": [
    {
     "name": "stdout",
     "output_type": "stream",
     "text": [
      "enter elements20 6 7 5 8 11 3\n",
      "[20, 6]\n",
      "[20, 7]\n",
      "[20, 5]\n",
      "[20, 8]\n",
      "[20, 11]\n",
      "[20, 3]\n",
      "[6, 5]\n",
      "[6, 3]\n",
      "[7, 5]\n",
      "[7, 3]\n",
      "[5, 3]\n",
      "[8, 3]\n",
      "[11, 3]\n",
      "no of inversions are : 13\n"
     ]
    }
   ],
   "source": [
    "l=list(map(int,input(\"enter elements\").split()))\n",
    "print(\"no of inversions are :\",count_inversions(l))"
   ]
  },
  {
   "cell_type": "code",
   "execution_count": 8,
   "id": "3124e582",
   "metadata": {},
   "outputs": [
    {
     "name": "stdout",
     "output_type": "stream",
     "text": [
      "20 6 7 5 8 11 3\n",
      "[3, 5, 6, 7, 8, 11, 20]\n",
      "13\n"
     ]
    }
   ],
   "source": [
    "def merge_sort(lst):\n",
    "    global c\n",
    "    if len(lst)<=1:\n",
    "        return lst\n",
    "    else:\n",
    "        mid=len(lst)//2\n",
    "        left=lst[:mid]\n",
    "        right=lst[mid:]\n",
    "        \n",
    "        merge_sort(left)\n",
    "        merge_sort(right)\n",
    "        #c=0\n",
    "        i=j=k=0\n",
    "        while i<len(left) and j<len(right):\n",
    "            if left[i]<right[j]:\n",
    "                lst[k]=left[i]\n",
    "                i+=1\n",
    "                k+=1\n",
    "            else:\n",
    "                lst[k]=right[j]\n",
    "                c+=len(left[i:])\n",
    "                j+=1\n",
    "                k+=1  \n",
    "        while i<len(left):\n",
    "            \n",
    "            lst[k]=left[i]\n",
    "            i+=1\n",
    "            k+=1\n",
    "        while j<len(right):\n",
    "            lst[k]=right[j]\n",
    "            j+=1\n",
    "            k+=1\n",
    "    return c\n",
    "    \n",
    "lst=list(map(int,input().split()))\n",
    "c=0\n",
    "c=merge_sort(lst)\n",
    "print(lst)\n",
    "print(c)\n",
    "\n"
   ]
  },
  {
   "cell_type": "code",
   "execution_count": null,
   "id": "3f06cfb7",
   "metadata": {},
   "outputs": [],
   "source": [
    "def merge_sort(arr):\n",
    "    if len(arr) <= 1:\n",
    "        return arr,0\n",
    "    \n",
    "    mid = len(arr) // 2\n",
    "    left_half = arr[:mid]\n",
    "    right_half = arr[mid:]\n",
    "    left_half,lc = merge_sort(left_half)\n",
    "    right_half,rc = merge_sort(right_half)\n",
    "    ml,tc=merge(left_half,right_half)\n",
    "  \n",
    "\n",
    "    return ml,lc+rc+tc"
   ]
  },
  {
   "cell_type": "code",
   "execution_count": 94,
   "id": "00adb6c6",
   "metadata": {},
   "outputs": [],
   "source": [
    "def merge(left, right):\n",
    "    merged = []\n",
    "    i = j = 0\n",
    "    c=0\n",
    "    while i < len(left) and j < len(right):\n",
    "        if left[i] < right[j]:\n",
    "            \n",
    "            merged.append(left[i])\n",
    "            i += 1\n",
    "        else:\n",
    "            c+=len(left[i:])\n",
    "            merged.append(right[j])\n",
    "            j += 1\n",
    "    \n",
    "    \n",
    "    merged.extend(left[i:])\n",
    "   \n",
    "    merged.extend(right[j:])\n",
    "\n",
    "\n",
    "    return merged,c"
   ]
  },
  {
   "cell_type": "code",
   "execution_count": 96,
   "id": "0af7adf5",
   "metadata": {},
   "outputs": [
    {
     "name": "stdout",
     "output_type": "stream",
     "text": [
      "Sorted Array: [1, 2, 3, 6, 9] 8\n"
     ]
    }
   ],
   "source": [
    "arr = [6,3,9,2,1]\n",
    "sorted_arr ,c= merge_sort(arr)\n",
    "print(\"Sorted Array:\", sorted_arr,c)"
   ]
  },
  {
   "cell_type": "code",
   "execution_count": null,
   "id": "da7d33cb",
   "metadata": {},
   "outputs": [],
   "source": []
  }
 ],
 "metadata": {
  "kernelspec": {
   "display_name": "Python 3 (ipykernel)",
   "language": "python",
   "name": "python3"
  },
  "language_info": {
   "codemirror_mode": {
    "name": "ipython",
    "version": 3
   },
   "file_extension": ".py",
   "mimetype": "text/x-python",
   "name": "python",
   "nbconvert_exporter": "python",
   "pygments_lexer": "ipython3",
   "version": "3.11.4"
  }
 },
 "nbformat": 4,
 "nbformat_minor": 5
}
