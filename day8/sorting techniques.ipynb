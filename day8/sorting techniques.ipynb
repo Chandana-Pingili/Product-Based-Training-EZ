{
 "cells": [
  {
   "cell_type": "markdown",
   "id": "1d46e26b",
   "metadata": {},
   "source": [
    "# selection sort"
   ]
  },
  {
   "cell_type": "code",
   "execution_count": 5,
   "id": "62e13971",
   "metadata": {},
   "outputs": [],
   "source": [
    "def selectionsort(l):\n",
    "    for i in range(len(l)):\n",
    "        min=i\n",
    "        print(\"key is\",l[i])\n",
    "        for j in range(i+1,len(l)):\n",
    "            print(\"key is compared with: \",l[j])\n",
    "            \n",
    "            if l[min]>l[j]:\n",
    "                min=j\n",
    "        l[min],l[i]=l[i],l[min]\n",
    "        print(l)"
   ]
  },
  {
   "cell_type": "code",
   "execution_count": 6,
   "id": "d1449bdf",
   "metadata": {},
   "outputs": [
    {
     "name": "stdout",
     "output_type": "stream",
     "text": [
      "enter list elements :15 7 6 3 9 8\n",
      "key is 15\n",
      "key is compared with:  7\n",
      "key is compared with:  6\n",
      "key is compared with:  3\n",
      "key is compared with:  9\n",
      "key is compared with:  8\n",
      "[3, 7, 6, 15, 9, 8]\n",
      "key is 7\n",
      "key is compared with:  6\n",
      "key is compared with:  15\n",
      "key is compared with:  9\n",
      "key is compared with:  8\n",
      "[3, 6, 7, 15, 9, 8]\n",
      "key is 7\n",
      "key is compared with:  15\n",
      "key is compared with:  9\n",
      "key is compared with:  8\n",
      "[3, 6, 7, 15, 9, 8]\n",
      "key is 15\n",
      "key is compared with:  9\n",
      "key is compared with:  8\n",
      "[3, 6, 7, 8, 9, 15]\n",
      "key is 9\n",
      "key is compared with:  15\n",
      "[3, 6, 7, 8, 9, 15]\n",
      "key is 15\n",
      "[3, 6, 7, 8, 9, 15]\n"
     ]
    }
   ],
   "source": [
    "l=list(map(int,input(\"enter list elements :\").split()))\n",
    "selectionsort(l)"
   ]
  },
  {
   "cell_type": "markdown",
   "id": "cfdffd96",
   "metadata": {},
   "source": [
    "# quick sort"
   ]
  },
  {
   "cell_type": "markdown",
   "id": "3eb49c03",
   "metadata": {},
   "source": [
    "->quick sort follows divide and conquer approach\n",
    "\n",
    "->pivot element is selected and all the elements lesser than pivot are arranged at left side of it and greater than pivot are moved to right side of pivot\n",
    "\n",
    "-> Then left and right subarray are sorted recursively\n",
    "\n",
    "->any element can be consisdered as pivot"
   ]
  },
  {
   "cell_type": "code",
   "execution_count": 18,
   "id": "c39aeb1d",
   "metadata": {},
   "outputs": [],
   "source": [
    "def quick_sort(l):\n",
    "    print(\"main list is :\",l)\n",
    "    if len(l)<1:\n",
    "        return l\n",
    "    else:\n",
    "        pivot=l[len(l)//2]\n",
    "        print(\"pivot is :\",pivot)\n",
    "        l_l=[i for i in l if i<pivot]\n",
    "        print(\"left sublist is: \",l_l)\n",
    "        r_l=[i for i in l if i>pivot]\n",
    "        print(\"right sub list is: \",r_l)\n",
    "        print( \"sorted sublist is: \"quick_sort(l_l)+[pivot]+quick_sort(r_l))\n",
    "        return quick_sort(l_l)+[pivot]+quick_sort(r_l)"
   ]
  },
  {
   "cell_type": "code",
   "execution_count": 20,
   "id": "5f573421",
   "metadata": {},
   "outputs": [
    {
     "name": "stdout",
     "output_type": "stream",
     "text": [
      "enter elements to sort : 4 3 6 7 9\n",
      "main list is : [4, 3, 6, 7, 9]\n",
      "pivot is : 6\n",
      "left sublist is:  [4, 3]\n",
      "right sub list is:  [7, 9]\n",
      "main list is : [4, 3]\n",
      "pivot is : 3\n",
      "left sublist is:  []\n",
      "right sub list is:  [4]\n",
      "main list is : []\n",
      "main list is : [4]\n",
      "pivot is : 4\n",
      "left sublist is:  []\n",
      "right sub list is:  []\n",
      "main list is : []\n",
      "main list is : []\n",
      "sorted sublist is :  [4]\n",
      "main list is : []\n",
      "main list is : []\n",
      "sorted sublist is :  [3, 4]\n",
      "main list is : []\n",
      "main list is : [4]\n",
      "pivot is : 4\n",
      "left sublist is:  []\n",
      "right sub list is:  []\n",
      "main list is : []\n",
      "main list is : []\n",
      "sorted sublist is :  [4]\n",
      "main list is : []\n",
      "main list is : []\n",
      "main list is : [7, 9]\n",
      "pivot is : 9\n",
      "left sublist is:  [7]\n",
      "right sub list is:  []\n",
      "main list is : [7]\n",
      "pivot is : 7\n",
      "left sublist is:  []\n",
      "right sub list is:  []\n",
      "main list is : []\n",
      "main list is : []\n",
      "sorted sublist is :  [7]\n",
      "main list is : []\n",
      "main list is : []\n",
      "main list is : []\n",
      "sorted sublist is :  [7, 9]\n",
      "main list is : [7]\n",
      "pivot is : 7\n",
      "left sublist is:  []\n",
      "right sub list is:  []\n",
      "main list is : []\n",
      "main list is : []\n",
      "sorted sublist is :  [7]\n",
      "main list is : []\n",
      "main list is : []\n",
      "main list is : []\n",
      "sorted sublist is :  [3, 4, 6, 7, 9]\n",
      "main list is : [4, 3]\n",
      "pivot is : 3\n",
      "left sublist is:  []\n",
      "right sub list is:  [4]\n",
      "main list is : []\n",
      "main list is : [4]\n",
      "pivot is : 4\n",
      "left sublist is:  []\n",
      "right sub list is:  []\n",
      "main list is : []\n",
      "main list is : []\n",
      "sorted sublist is :  [4]\n",
      "main list is : []\n",
      "main list is : []\n",
      "sorted sublist is :  [3, 4]\n",
      "main list is : []\n",
      "main list is : [4]\n",
      "pivot is : 4\n",
      "left sublist is:  []\n",
      "right sub list is:  []\n",
      "main list is : []\n",
      "main list is : []\n",
      "sorted sublist is :  [4]\n",
      "main list is : []\n",
      "main list is : []\n",
      "main list is : [7, 9]\n",
      "pivot is : 9\n",
      "left sublist is:  [7]\n",
      "right sub list is:  []\n",
      "main list is : [7]\n",
      "pivot is : 7\n",
      "left sublist is:  []\n",
      "right sub list is:  []\n",
      "main list is : []\n",
      "main list is : []\n",
      "sorted sublist is :  [7]\n",
      "main list is : []\n",
      "main list is : []\n",
      "main list is : []\n",
      "sorted sublist is :  [7, 9]\n",
      "main list is : [7]\n",
      "pivot is : 7\n",
      "left sublist is:  []\n",
      "right sub list is:  []\n",
      "main list is : []\n",
      "main list is : []\n",
      "sorted sublist is :  [7]\n",
      "main list is : []\n",
      "main list is : []\n",
      "main list is : []\n",
      "[3, 4, 6, 7, 9]\n"
     ]
    }
   ],
   "source": [
    "l=list(map(int,input(\"enter elements to sort : \").split()))\n",
    "print(quick_sort(l))"
   ]
  },
  {
   "cell_type": "markdown",
   "id": "32446a70",
   "metadata": {},
   "source": [
    "# merge sort"
   ]
  },
  {
   "cell_type": "markdown",
   "id": "3d3d6fff",
   "metadata": {},
   "source": [
    "->merge sort follows divide and conquer approach\n",
    "\n",
    "->we divide the array untill it cannot be divided into further i.e., until the array contains single elements based on mid element\n",
    "\n",
    "->merge the subarrays by sorting them"
   ]
  },
  {
   "cell_type": "code",
   "execution_count": 1,
   "id": "f7e1cd91",
   "metadata": {},
   "outputs": [],
   "source": [
    "def merge_sort(l):\n",
    "    if len(l)<=1:\n",
    "        return l \n",
    "    else:\n",
    "        mid=len(l)//2\n",
    "        leftl=l[:mid]\n",
    "        rlist=l[mid:]\n",
    "        merge_sort(leftl)\n",
    "        merge_sort(rlist)\n",
    "        lst=merge(leftl,rlist)\n",
    "        return lst \n",
    "        "
   ]
  },
  {
   "cell_type": "code",
   "execution_count": 2,
   "id": "48cdd0bc",
   "metadata": {},
   "outputs": [],
   "source": [
    "def merge(leftlist,rightlist):\n",
    "    mainlist=[]\n",
    "    i=j=k=0\n",
    "    while i<len(leftlist) and j<len(rightlist):\n",
    "        if leftlist[i]<rightlist[j]:\n",
    "            mainlist[k]=leftlist[i]\n",
    "            i+=1\n",
    "            k+=1\n",
    "        else:\n",
    "            mainlist[k]=rightlist[j]\n",
    "            j+=1\n",
    "            k+=1\n",
    "    while i<len(leftlist):\n",
    "        mainlist[k]=leftlist[i]\n",
    "        i+=1\n",
    "        k+=1\n",
    "    while j<len(rightlist):\n",
    "        mainlist[k]=rightlist[j]\n",
    "        j+=1\n",
    "        k+=1\n",
    "    return mainlist\n",
    "    "
   ]
  },
  {
   "cell_type": "code",
   "execution_count": 3,
   "id": "58179a8a",
   "metadata": {},
   "outputs": [
    {
     "name": "stdout",
     "output_type": "stream",
     "text": [
      "enter elemets to sort :4 3 2 1\n"
     ]
    },
    {
     "ename": "IndexError",
     "evalue": "list assignment index out of range",
     "output_type": "error",
     "traceback": [
      "\u001b[1;31m---------------------------------------------------------------------------\u001b[0m",
      "\u001b[1;31mIndexError\u001b[0m                                Traceback (most recent call last)",
      "Cell \u001b[1;32mIn[3], line 2\u001b[0m\n\u001b[0;32m      1\u001b[0m l\u001b[38;5;241m=\u001b[39m\u001b[38;5;28mlist\u001b[39m(\u001b[38;5;28mmap\u001b[39m(\u001b[38;5;28mint\u001b[39m,\u001b[38;5;28minput\u001b[39m(\u001b[38;5;124m\"\u001b[39m\u001b[38;5;124menter elemets to sort :\u001b[39m\u001b[38;5;124m\"\u001b[39m)\u001b[38;5;241m.\u001b[39msplit()))\n\u001b[1;32m----> 2\u001b[0m \u001b[38;5;28mprint\u001b[39m(merge_sort(l))\n",
      "Cell \u001b[1;32mIn[1], line 8\u001b[0m, in \u001b[0;36mmerge_sort\u001b[1;34m(l)\u001b[0m\n\u001b[0;32m      6\u001b[0m leftl\u001b[38;5;241m=\u001b[39ml[:mid]\n\u001b[0;32m      7\u001b[0m rlist\u001b[38;5;241m=\u001b[39ml[mid:]\n\u001b[1;32m----> 8\u001b[0m merge_sort(leftl)\n\u001b[0;32m      9\u001b[0m merge_sort(rlist)\n\u001b[0;32m     10\u001b[0m lst\u001b[38;5;241m=\u001b[39mmerge(leftl,rlist)\n",
      "Cell \u001b[1;32mIn[1], line 10\u001b[0m, in \u001b[0;36mmerge_sort\u001b[1;34m(l)\u001b[0m\n\u001b[0;32m      8\u001b[0m merge_sort(leftl)\n\u001b[0;32m      9\u001b[0m merge_sort(rlist)\n\u001b[1;32m---> 10\u001b[0m lst\u001b[38;5;241m=\u001b[39mmerge(leftl,rlist)\n\u001b[0;32m     11\u001b[0m \u001b[38;5;28;01mreturn\u001b[39;00m lst\n",
      "Cell \u001b[1;32mIn[2], line 10\u001b[0m, in \u001b[0;36mmerge\u001b[1;34m(leftlist, rightlist)\u001b[0m\n\u001b[0;32m      8\u001b[0m     k\u001b[38;5;241m+\u001b[39m\u001b[38;5;241m=\u001b[39m\u001b[38;5;241m1\u001b[39m\n\u001b[0;32m      9\u001b[0m \u001b[38;5;28;01melse\u001b[39;00m:\n\u001b[1;32m---> 10\u001b[0m     mainlist[k]\u001b[38;5;241m=\u001b[39mrightlist[j]\n\u001b[0;32m     11\u001b[0m     j\u001b[38;5;241m+\u001b[39m\u001b[38;5;241m=\u001b[39m\u001b[38;5;241m1\u001b[39m\n\u001b[0;32m     12\u001b[0m     k\u001b[38;5;241m+\u001b[39m\u001b[38;5;241m=\u001b[39m\u001b[38;5;241m1\u001b[39m\n",
      "\u001b[1;31mIndexError\u001b[0m: list assignment index out of range"
     ]
    }
   ],
   "source": [
    "l=list(map(int,input(\"enter elemets to sort :\").split()))\n",
    "print(merge_sort(l))"
   ]
  },
  {
   "cell_type": "code",
   "execution_count": null,
   "id": "890a2e88",
   "metadata": {},
   "outputs": [],
   "source": []
  }
 ],
 "metadata": {
  "kernelspec": {
   "display_name": "Python 3 (ipykernel)",
   "language": "python",
   "name": "python3"
  },
  "language_info": {
   "codemirror_mode": {
    "name": "ipython",
    "version": 3
   },
   "file_extension": ".py",
   "mimetype": "text/x-python",
   "name": "python",
   "nbconvert_exporter": "python",
   "pygments_lexer": "ipython3",
   "version": "3.11.4"
  }
 },
 "nbformat": 4,
 "nbformat_minor": 5
}
