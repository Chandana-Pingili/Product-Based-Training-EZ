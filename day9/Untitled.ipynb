{
 "cells": [
  {
   "cell_type": "markdown",
   "id": "e2f36de5",
   "metadata": {},
   "source": [
    "# counting sort\n"
   ]
  },
  {
   "cell_type": "markdown",
   "id": "8564f3a6",
   "metadata": {},
   "source": [
    "->Counting sort can only be applied to positive integers\n",
    "\n",
    "->time complexity :- O(n+k) where k is input size"
   ]
  },
  {
   "cell_type": "code",
   "execution_count": 37,
   "id": "509f629d",
   "metadata": {},
   "outputs": [],
   "source": [
    "def count_sort(l):\n",
    "    index_array=[0]*(max(l)+1)\n",
    "    sorted_array=[0]*(len(l))\n",
    "    for i in l:\n",
    "        index_array[i]+=1\n",
    "    for i in range(1,len(index_array)):\n",
    "        index_array[i]=index_array[i-1]+index_array[i]    \n",
    "    l=l[::-1]\n",
    "    for i in l:\n",
    "        index_array[i]-=1\n",
    "        x=index_array[i]\n",
    "        sorted_array[x]=i\n",
    "        \n",
    "    return sorted_array"
   ]
  },
  {
   "cell_type": "code",
   "execution_count": 38,
   "id": "1c328411",
   "metadata": {},
   "outputs": [
    {
     "name": "stdout",
     "output_type": "stream",
     "text": [
      "6 5 4 9\n",
      "[4, 5, 6, 9]\n"
     ]
    }
   ],
   "source": [
    "l=list(map(int,input().split()))\n",
    "print(count_sort(l))"
   ]
  },
  {
   "cell_type": "markdown",
   "id": "3c440c0e",
   "metadata": {},
   "source": [
    "# searching techniques"
   ]
  },
  {
   "cell_type": "markdown",
   "id": "13fdda67",
   "metadata": {},
   "source": [
    "searching is mean to search for a given elements whether it is present in the given array or no"
   ]
  },
  {
   "cell_type": "markdown",
   "id": "45fa796e",
   "metadata": {},
   "source": [
    "## linear search"
   ]
  },
  {
   "cell_type": "markdown",
   "id": "3a17ccfc",
   "metadata": {},
   "source": [
    "sequentially searches each elemtent whether it is equal to the search element or not"
   ]
  },
  {
   "cell_type": "code",
   "execution_count": 39,
   "id": "2e30177a",
   "metadata": {},
   "outputs": [],
   "source": [
    "def linear_search(l,k):\n",
    "    for i in range(len(l)):\n",
    "        if l[i]==k:\n",
    "            break\n",
    "    return i+1,1"
   ]
  },
  {
   "cell_type": "code",
   "execution_count": 42,
   "id": "076ba6f2",
   "metadata": {},
   "outputs": [
    {
     "name": "stdout",
     "output_type": "stream",
     "text": [
      "enter list elements : 1 3 2 5 6 7\n",
      "enter search element : 2\n",
      "element found at position  3\n"
     ]
    }
   ],
   "source": [
    "l=list(map(int,input(\"enter list elements : \").split()))\n",
    "key=int(input(\"enter search element : \"))\n",
    "pos,flag=linear_search(l,key)\n",
    "if flag==1:\n",
    "    print(\"element found at position \",pos)\n",
    "else:\n",
    "    print(\"given element is not found\")"
   ]
  },
  {
   "cell_type": "markdown",
   "id": "5af26cff",
   "metadata": {},
   "source": [
    "### Binary search"
   ]
  },
  {
   "cell_type": "markdown",
   "id": "28b6dd58",
   "metadata": {},
   "source": [
    "->it is suitable for sorted elements only\n",
    "\n",
    "->we find the mid element and check whether it is the search element or not\n",
    "\n",
    "-> if search element is not equal to mid element and:\n",
    "    \n",
    "    -lessthan it we move to left side of mid value and follow the same approach\n",
    "    \n",
    "    -greaterthan it we move to right side of mid value and follow the same approach"
   ]
  },
  {
   "cell_type": "code",
   "execution_count": 50,
   "id": "e7e9d991",
   "metadata": {},
   "outputs": [],
   "source": [
    "def binary_search(l,k,low,high):\n",
    "    \n",
    "    while low<=high:\n",
    "        mid=(low+high)//2\n",
    "        if key==l[mid]:\n",
    "            return mid+1\n",
    "        elif key<l[mid]:\n",
    "            high=mid-1\n",
    "        else:\n",
    "            low=mid+1\n",
    "    return False\n"
   ]
  },
  {
   "cell_type": "code",
   "execution_count": 51,
   "id": "512b815a",
   "metadata": {},
   "outputs": [
    {
     "name": "stdout",
     "output_type": "stream",
     "text": [
      "enter list elements : 1 2 3 4 5 6\n",
      "enter key element : 6\n",
      "elements found at position 6\n"
     ]
    }
   ],
   "source": [
    "l=list(map(int,input(\"enter list elements : \").split()))\n",
    "key=int(input(\"enter key element : \"))\n",
    "res=binary_search(l,key,0,len(l))\n",
    "if res!=False:\n",
    "    print(\"elements found at position\",res)\n",
    "else:\n",
    "    print(\"element not present in given list\")"
   ]
  },
  {
   "cell_type": "code",
   "execution_count": null,
   "id": "b6310817",
   "metadata": {},
   "outputs": [],
   "source": []
  },
  {
   "cell_type": "markdown",
   "id": "a1cbedf2",
   "metadata": {},
   "source": [
    "# Master's Theorem\n"
   ]
  },
  {
   "cell_type": "markdown",
   "id": "d0a8105b",
   "metadata": {},
   "source": [
    "Master's Theorem is the most useful and easy method to compute the time complexity function of recurrence relations. Master's Algorithm for dividing functions can only be applied on the recurrence relations of the form: \n",
    "T(n) =aT(n/b)+f(n), where \n",
    "f(n)=θ(n^klog^pn)\n",
    "for example:\n",
    "T(n) = \n",
    "2T(n/2)+n^2\n",
    "T(n) = T(n/4) + nlogn\n",
    "where,\n",
    "\n",
    "n = input size (or the size of the problem)\n",
    "a = count of subproblems in the dividing recursive function\n",
    "n/b = size of each subproblem (Assuming size of each subproblem is same)\n",
    "\n",
    "where the constants a, b, and k are constants and follow the following conditions:\n",
    "\n",
    "a>=1\n",
    "b>1\n",
    "k>=0\n",
    "\n",
    "T(n)=aT(n/b) +θ(n^klog^pn)\n",
    "\n",
    "Master's Theorem states that:\n",
    "Case 1)if log a base b>k then:\n",
    "->T(n) = θ(n^log a base b)\n",
    "\n",
    "Case 2) If log a base b=k, then:\n",
    "a) If p>-1, then T(n) = θ(n^klog^(p+1)n)\n",
    "b) If p=-1, then T(n) =θ(n^kloglogn)\n",
    "c) p<-1, then T(n) = θ(n^k)\n",
    "Case 3) If log a base b<k, then:\n",
    "If p>=0, then T(n) = θ(n^klog^p n)\n",
    "If p<0, then T(n) = θ(n^k)\n",
    "The same can also be written as:\n",
    "\n",
    "Case 1- If a>b^k, then:T(n) = θ(n log b base a)\n",
    "Case 2- If a=b^k, then:\n",
    "a) If p>-1, then T(n) = θ(n^log a base b log^(p+1)n)\n",
    "b) If p=-1, then T(n)=θ(n^log a base b loglogn)\n",
    "c) If p<-1, then T(n)=θ(n^log a base b)\n",
    "Case 3- If a<b^k, then:\n",
    "a) If p>=0, then T(n)=θ(n>^klog^pn)\n",
    "b) If p<0, then T(n)=θ(n^k )\n",
    "Hence, using the values of a, b, k and p, we can easily find the time complexity function of any dividing recurrence relation of the above-stated form. We'll solve some examples in the upcoming section."
   ]
  },
  {
   "cell_type": "code",
   "execution_count": 3,
   "id": "b46fe485",
   "metadata": {},
   "outputs": [
    {
     "name": "stdout",
     "output_type": "stream",
     "text": [
      "4\n",
      "[0, 1, 0, 0]\n",
      "[0, 0, 0, 1]\n",
      "[1, 0, 0, 0]\n",
      "[0, 0, 1, 0]\n"
     ]
    }
   ],
   "source": [
    "def is_safe(board,row,col,N):\n",
    "    for i in range(row):\n",
    "        if board[i][col]==1:\n",
    "            return False\n",
    "    \n",
    "    for i,j in zip(range(row,-1,-1),range(col,-1,-1)):\n",
    "        if board[i][j]==1:\n",
    "            return False\n",
    "    for i,j in zip(range(row,-1,-1),range(col,N)):\n",
    "        if board[i][j]==1:\n",
    "            return False\n",
    "    return True\n",
    "def solve_N_queen(board,row,N):\n",
    "    if row==N:\n",
    "        return True\n",
    "    for col in range(N):\n",
    "        if is_safe(board,row,col,N):\n",
    "            board[row][col]=1\n",
    "            if solve_N_queen(board,row+1,N):\n",
    "                return True\n",
    "            board[row][col]=0\n",
    "    return False\n",
    "N=int(input())\n",
    "board=[[0]*N for i in range(N)]\n",
    "if solve_N_queen(board,0,N):\n",
    "    for i in range(N):\n",
    "        print(board[i])\n",
    "else:\n",
    "    print(\"solution does not exsist\")\n"
   ]
  },
  {
   "cell_type": "code",
   "execution_count": 4,
   "id": "1db2c246",
   "metadata": {},
   "outputs": [],
   "source": [
    "def check_diagonal(board,row,col,N):\n",
    "\n",
    "    for i,j in zip(range(row,-1,-1),range(col,-1,-1)):\n",
    "        if board[i][j]==1:\n",
    "            return True\n",
    "    for i,j in zip(range(row,N),range(col,-1,-1)):\n",
    "        if board[i][j]==1:\n",
    "            return True\n",
    "    return False"
   ]
  },
  {
   "cell_type": "code",
   "execution_count": null,
   "id": "f15f5465",
   "metadata": {},
   "outputs": [],
   "source": [
    "def check_valid queen"
   ]
  }
 ],
 "metadata": {
  "kernelspec": {
   "display_name": "Python 3 (ipykernel)",
   "language": "python",
   "name": "python3"
  },
  "language_info": {
   "codemirror_mode": {
    "name": "ipython",
    "version": 3
   },
   "file_extension": ".py",
   "mimetype": "text/x-python",
   "name": "python",
   "nbconvert_exporter": "python",
   "pygments_lexer": "ipython3",
   "version": "3.11.4"
  }
 },
 "nbformat": 4,
 "nbformat_minor": 5
}
